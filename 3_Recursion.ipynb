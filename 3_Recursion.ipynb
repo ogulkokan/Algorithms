{
 "cells": [
  {
   "cell_type": "markdown",
   "id": "f0f271cd",
   "metadata": {},
   "source": [
    "# Recursion"
   ]
  },
  {
   "cell_type": "markdown",
   "id": "0e0940fc",
   "metadata": {},
   "source": [
    "\"When you write a recursive function, you have to tell it when to stop recursing. That’s why every recursive function has two parts: the base case, and the recursive case. The recursive case is when the function calls itself. The base case is when the function doesn’t call itself again ... so it doesn’t go into an infinite loop.\""
   ]
  },
  {
   "cell_type": "code",
   "execution_count": 8,
   "id": "3e867887",
   "metadata": {},
   "outputs": [],
   "source": [
    "def countdown(i): \n",
    "    print(i)\n",
    "    if i<= 0:\n",
    "        return\n",
    "    else:\n",
    "        countdown(i-1)"
   ]
  },
  {
   "cell_type": "code",
   "execution_count": 10,
   "id": "eadb5380",
   "metadata": {},
   "outputs": [
    {
     "name": "stdout",
     "output_type": "stream",
     "text": [
      "5\n",
      "4\n",
      "3\n",
      "2\n",
      "1\n",
      "0\n"
     ]
    }
   ],
   "source": [
    "countdown(5)"
   ]
  },
  {
   "cell_type": "markdown",
   "id": "cf60b756",
   "metadata": {},
   "source": [
    "## The call stack with recursion"
   ]
  },
  {
   "cell_type": "code",
   "execution_count": 20,
   "id": "0d03d4a8",
   "metadata": {},
   "outputs": [],
   "source": [
    "# factorial function wiwh recursion\n",
    "def fact(x):\n",
    "    if x == 1:\n",
    "        return 1\n",
    "    else:\n",
    "        return x * fact(x-1)"
   ]
  },
  {
   "cell_type": "code",
   "execution_count": 21,
   "id": "f48ab00f",
   "metadata": {},
   "outputs": [
    {
     "data": {
      "text/plain": [
       "120"
      ]
     },
     "execution_count": 21,
     "metadata": {},
     "output_type": "execute_result"
    }
   ],
   "source": [
    "fact(5)"
   ]
  },
  {
   "cell_type": "markdown",
   "id": "b094c2c7",
   "metadata": {},
   "source": [
    "• Recursion is when a function calls itself.  \n",
    "• Every recursive function has two cases: the base case and the recursive case.  \n",
    "• A stack has two operations: push and pop.  \n",
    "• All function calls go onto the call stack.  \n",
    "• The call stack can get very large, which takes up a lot of memory.  "
   ]
  },
  {
   "cell_type": "code",
   "execution_count": null,
   "id": "f41c8774",
   "metadata": {},
   "outputs": [],
   "source": []
  },
  {
   "cell_type": "code",
   "execution_count": null,
   "id": "9d02ab06",
   "metadata": {},
   "outputs": [],
   "source": []
  },
  {
   "cell_type": "code",
   "execution_count": null,
   "id": "2156f408",
   "metadata": {},
   "outputs": [],
   "source": []
  },
  {
   "cell_type": "code",
   "execution_count": null,
   "id": "ef179386",
   "metadata": {},
   "outputs": [],
   "source": []
  }
 ],
 "metadata": {
  "kernelspec": {
   "display_name": "Python 3 (ipykernel)",
   "language": "python",
   "name": "python3"
  },
  "language_info": {
   "codemirror_mode": {
    "name": "ipython",
    "version": 3
   },
   "file_extension": ".py",
   "mimetype": "text/x-python",
   "name": "python",
   "nbconvert_exporter": "python",
   "pygments_lexer": "ipython3",
   "version": "3.8.9"
  }
 },
 "nbformat": 4,
 "nbformat_minor": 5
}
